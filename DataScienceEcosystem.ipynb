{
 "cells": [
  {
   "cell_type": "markdown",
   "id": "783d0dfe-88f7-4164-be02-9add4e4de79c",
   "metadata": {},
   "source": [
    "# Data Science Tools and Ecosystem"
   ]
  },
  {
   "cell_type": "markdown",
   "id": "a62912f6-d6d9-4908-acb1-448668573228",
   "metadata": {},
   "source": [
    "### In this notebook, Data Science Tools and Ecosystem are summarized."
   ]
  },
  {
   "cell_type": "markdown",
   "id": "ab165799-716d-4f5f-9629-f373740be060",
   "metadata": {},
   "source": [
    "**Objectives:**\n",
    "- List popular Data Science languages\n",
    "- List popular Data Science Tools\n",
    "- Provide examples of arithmetic expressions in Python"
   ]
  },
  {
   "cell_type": "markdown",
   "id": "f653915c-cd7b-4477-99cb-0359c4c9cfd0",
   "metadata": {},
   "source": [
    "Some of the popular languages that Data Scientists use are:\n",
    "\n",
    "1) Python\n",
    "2) R\n",
    "3) SQL"
   ]
  },
  {
   "cell_type": "markdown",
   "id": "784b5f11-f585-4e8a-a399-f9af1a8d30ae",
   "metadata": {},
   "source": [
    "Data Science Tools|\n",
    "------------------|\n",
    "pandas|\n",
    "NumPy|\n",
    "Scikit-learn|"
   ]
  },
  {
   "cell_type": "markdown",
   "id": "a62c9ccb-2949-4bef-8853-09dd5d216e80",
   "metadata": {},
   "source": [
    "### Below are a few examples of evaluating arithmetic expressions in Python"
   ]
  },
  {
   "cell_type": "code",
   "execution_count": 1,
   "id": "6c5fad63-4307-422e-ba55-ff4e7c7bec2d",
   "metadata": {},
   "outputs": [
    {
     "data": {
      "text/plain": [
       "17"
      ]
     },
     "execution_count": 1,
     "metadata": {},
     "output_type": "execute_result"
    }
   ],
   "source": [
    "#This a simple arithmetic expression to mutiply then add integers\n",
    "(3*4)+5"
   ]
  },
  {
   "cell_type": "code",
   "execution_count": 2,
   "id": "e65068d0-7037-4e3d-91da-d52b0bacb6fe",
   "metadata": {},
   "outputs": [
    {
     "data": {
      "text/plain": [
       "3.3333333333333335"
      ]
     },
     "execution_count": 2,
     "metadata": {},
     "output_type": "execute_result"
    }
   ],
   "source": [
    "#This will convert 200 minutes to hours by diving by 60\n",
    "200/60"
   ]
  },
  {
   "cell_type": "markdown",
   "id": "039a7b9e-0b8c-4940-94bb-e99087bb4d9a",
   "metadata": {},
   "source": [
    "## Author\n",
    "Nathan Davies"
   ]
  },
  {
   "cell_type": "code",
   "execution_count": null,
   "id": "45c6efa6-ec2b-4ac9-a54b-3562620315cc",
   "metadata": {},
   "outputs": [],
   "source": []
  }
 ],
 "metadata": {
  "kernelspec": {
   "display_name": "Python 3 (ipykernel)",
   "language": "python",
   "name": "python3"
  },
  "language_info": {
   "codemirror_mode": {
    "name": "ipython",
    "version": 3
   },
   "file_extension": ".py",
   "mimetype": "text/x-python",
   "name": "python",
   "nbconvert_exporter": "python",
   "pygments_lexer": "ipython3",
   "version": "3.12.5"
  }
 },
 "nbformat": 4,
 "nbformat_minor": 5
}
